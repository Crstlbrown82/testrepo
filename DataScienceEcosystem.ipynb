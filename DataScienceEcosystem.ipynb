{
 "cells": [
  {
   "cell_type": "markdown",
   "id": "9371162d-82a9-4777-a180-a5144d1c1b72",
   "metadata": {},
   "source": [
    "# Data Science Tools and Ecosystem"
   ]
  },
  {
   "cell_type": "markdown",
   "id": "79b8e48f-d7c2-4def-b335-dcd727ab3d59",
   "metadata": {},
   "source": [
    "In this notebook you will understand data science tools and ecosystem."
   ]
  },
  {
   "cell_type": "markdown",
   "id": "e449d6e4-2bd3-4872-ba15-6bcfb88f6be9",
   "metadata": {},
   "source": [
    "Popular languages Data Scientists use are:\n",
    "1. Python\n",
    "2. R\n",
    "3. SQL"
   ]
  },
  {
   "cell_type": "markdown",
   "id": "662879f0-e5fc-4940-a1ee-119fee914e91",
   "metadata": {},
   "source": [
    "Commonly used libraries in Data Science are: \n",
    "1. Panda\n",
    "2. NumPy\n",
    "3. Matplotlib"
   ]
  },
  {
   "cell_type": "markdown",
   "id": "8660b0de-7278-4bb0-832d-f19fe888af7f",
   "metadata": {},
   "source": [
    "| Data Science Tools |\n",
    "| ---- |\n",
    "| Jupyter Notebook |\n",
    "| RStudio |\n",
    "| Spyder |"
   ]
  },
  {
   "cell_type": "markdown",
   "id": "6d082160-49df-4dea-b916-4e659dcb5c68",
   "metadata": {
    "tags": []
   },
   "source": [
    "### See below for examples of arithmetic expressions in Python."
   ]
  },
  {
   "cell_type": "code",
   "execution_count": 3,
   "id": "4cb49ae6-4478-4e79-8459-ccdf82e77248",
   "metadata": {},
   "outputs": [
    {
     "data": {
      "text/plain": [
       "17"
      ]
     },
     "execution_count": 3,
     "metadata": {},
     "output_type": "execute_result"
    }
   ],
   "source": [
    "\"This arithmetic expression is to multiply then add integers.\"\n",
    "(3*4)+5"
   ]
  },
  {
   "cell_type": "code",
   "execution_count": 4,
   "id": "2804ab50-74c3-4923-98c8-cb45356aff5a",
   "metadata": {},
   "outputs": [
    {
     "data": {
      "text/plain": [
       "3.3333333333333335"
      ]
     },
     "execution_count": 4,
     "metadata": {},
     "output_type": "execute_result"
    }
   ],
   "source": [
    "\"This will convert 200 minutes to hours by diving by 60\"\n",
    "200/60"
   ]
  },
  {
   "cell_type": "markdown",
   "id": "6ba4d205-1943-4a70-997e-f6c219d85543",
   "metadata": {},
   "source": [
    "**Objectives**\n",
    "* Popular languages for Data Science\n",
    "* Common libraries\n",
    "* Developmental Environments "
   ]
  },
  {
   "cell_type": "markdown",
   "id": "524066fd-e536-4ec2-8114-1f9fae1ec7c1",
   "metadata": {
    "tags": []
   },
   "source": [
    "## Author\n",
    "Crystal Muranda"
   ]
  },
  {
   "cell_type": "code",
   "execution_count": null,
   "id": "baa83840-f262-485a-8730-200586ee360a",
   "metadata": {},
   "outputs": [],
   "source": []
  }
 ],
 "metadata": {
  "kernelspec": {
   "display_name": "Python",
   "language": "python",
   "name": "conda-env-python-py"
  },
  "language_info": {
   "codemirror_mode": {
    "name": "ipython",
    "version": 3
   },
   "file_extension": ".py",
   "mimetype": "text/x-python",
   "name": "python",
   "nbconvert_exporter": "python",
   "pygments_lexer": "ipython3",
   "version": "3.7.12"
  }
 },
 "nbformat": 4,
 "nbformat_minor": 5
}
