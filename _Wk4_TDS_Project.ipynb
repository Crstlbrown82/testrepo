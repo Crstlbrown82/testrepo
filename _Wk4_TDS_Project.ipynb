{
 "cells": [
  {
   "cell_type": "markdown",
   "id": "6ea98733-f45a-4e04-aa36-90d9c78e45d1",
   "metadata": {},
   "source": [
    "# My Jupyter Notebook on IBM Watson Studio"
   ]
  },
  {
   "cell_type": "markdown",
   "id": "e6e3b4f9-417b-4d1c-a721-22b4395ef02f",
   "metadata": {},
   "source": [
    "**Crystal Muranda** <br>\n",
    "Data Analyst"
   ]
  },
  {
   "cell_type": "markdown",
   "id": "cde0d4c3-2351-41ae-927c-cdb58be9db61",
   "metadata": {},
   "source": [
    "_I am interested in data science because it fulfills my inquisitive nature. I have always been a results driven person and a problem solver. After learning about data science, I feel it will be fulfilling to purse it as a career._ "
   ]
  },
  {
   "cell_type": "markdown",
   "id": "b6d6f868-8800-49cb-90fe-c7ae570b1056",
   "metadata": {},
   "source": [
    "##### Below, my code is a display of math computational order."
   ]
  },
  {
   "cell_type": "code",
   "execution_count": 1,
   "id": "e1031396-a9a8-4190-812b-6a12a9b57757",
   "metadata": {},
   "outputs": [
    {
     "data": {
      "text/plain": [
       "17.0"
      ]
     },
     "execution_count": 1,
     "metadata": {},
     "output_type": "execute_result"
    }
   ],
   "source": [
    "(5*5)/5*4+3-6"
   ]
  },
  {
   "cell_type": "markdown",
   "id": "1bb9826a-1574-4455-af8b-596ef11ef4c8",
   "metadata": {},
   "source": [
    "Please ~~remove~~ watch this video.\n",
    "\n",
    "<a href=\"https://youtu.be/WRgUu_UCNEg\" target=\"_blank\"><img src=\"http://img.youtube.com/vi/czpPwMB8s3o/0.jpg\" \n",
    "alt=\"SALENA WITH REMA\" width=\"240\" height=\"180\" border=\"10\" /></a>"
   ]
  }
 ],
 "metadata": {
  "kernelspec": {
   "display_name": "Python",
   "language": "python",
   "name": "conda-env-python-py"
  },
  "language_info": {
   "codemirror_mode": {
    "name": "ipython",
    "version": 3
   },
   "file_extension": ".py",
   "mimetype": "text/x-python",
   "name": "python",
   "nbconvert_exporter": "python",
   "pygments_lexer": "ipython3",
   "version": "3.7.12"
  }
 },
 "nbformat": 4,
 "nbformat_minor": 5
}
